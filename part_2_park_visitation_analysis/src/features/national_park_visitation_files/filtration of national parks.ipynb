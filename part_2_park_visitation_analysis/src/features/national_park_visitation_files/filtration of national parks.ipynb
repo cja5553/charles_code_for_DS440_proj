{
 "cells": [
  {
   "cell_type": "code",
   "execution_count": null,
   "metadata": {
    "id": "qZzZqPyJR_Im"
   },
   "outputs": [],
   "source": [
    "# import the relevant data\n",
    "%matplotlib inline\n",
    "import numpy as np\n",
    "import pandas as pd\n",
    "from pandas import DataFrame\n",
    "from numpy import nan\n",
    "import json "
   ]
  },
  {
   "cell_type": "code",
   "execution_count": null,
   "metadata": {
    "colab": {
     "base_uri": "https://localhost:8080/"
    },
    "executionInfo": {
     "elapsed": 87822,
     "status": "ok",
     "timestamp": 1616546789721,
     "user": {
      "displayName": "Charles J Alba",
      "photoUrl": "",
      "userId": "04453837260567781183"
     },
     "user_tz": 240
    },
    "id": "l6cG5dP9SD9p",
    "outputId": "2be5729a-b8ec-4186-bead-359bd8211e8d"
   },
   "outputs": [
    {
     "name": "stdout",
     "output_type": "stream",
     "text": [
      "Mounted at /content/drive/\n",
      "/content/drive/.shortcut-targets-by-id/1yd8M4YuDK5d4rLAguMN33UbjJKW5j3ZD/Park_visitation\n"
     ]
    }
   ],
   "source": [
    "# Read the data\n",
    "from google.colab import drive\n",
    "drive.mount(\"/content/drive/\")\n",
    "%cd '/content/drive/My Drive/Park_visitation'\n",
    "data = pd.read_csv('combined.csv')\n"
   ]
  },
  {
   "cell_type": "code",
   "execution_count": null,
   "metadata": {
    "colab": {
     "base_uri": "https://localhost:8080/",
     "height": 538
    },
    "executionInfo": {
     "elapsed": 250,
     "status": "ok",
     "timestamp": 1616546850270,
     "user": {
      "displayName": "Charles J Alba",
      "photoUrl": "",
      "userId": "04453837260567781183"
     },
     "user_tz": 240
    },
    "id": "SRIrOkoisehs",
    "outputId": "f16949bc-078a-4ba8-ac41-3e9cc1bc24bd"
   },
   "outputs": [
    {
     "data": {
      "text/html": [
       "<div>\n",
       "<style scoped>\n",
       "    .dataframe tbody tr th:only-of-type {\n",
       "        vertical-align: middle;\n",
       "    }\n",
       "\n",
       "    .dataframe tbody tr th {\n",
       "        vertical-align: top;\n",
       "    }\n",
       "\n",
       "    .dataframe thead th {\n",
       "        text-align: right;\n",
       "    }\n",
       "</style>\n",
       "<table border=\"1\" class=\"dataframe\">\n",
       "  <thead>\n",
       "    <tr style=\"text-align: right;\">\n",
       "      <th></th>\n",
       "      <th>safegraph_place_id</th>\n",
       "      <th>location_name</th>\n",
       "      <th>city</th>\n",
       "      <th>region</th>\n",
       "      <th>postal_code</th>\n",
       "      <th>latitude</th>\n",
       "      <th>longitude</th>\n",
       "      <th>date_range_start</th>\n",
       "      <th>date_range_end</th>\n",
       "      <th>visitor_home_cbgs</th>\n",
       "      <th>national_park</th>\n",
       "    </tr>\n",
       "  </thead>\n",
       "  <tbody>\n",
       "    <tr>\n",
       "      <th>48</th>\n",
       "      <td>sg:83ea967f91374e609cdf05d725601b43</td>\n",
       "      <td>Congaree National Park</td>\n",
       "      <td>Gadsden</td>\n",
       "      <td>SC</td>\n",
       "      <td>29061</td>\n",
       "      <td>33.829442</td>\n",
       "      <td>-80.823972</td>\n",
       "      <td>2020-01-01T00:00:00-05:00</td>\n",
       "      <td>2020-02-01T00:00:00-05:00</td>\n",
       "      <td>{'360811459002': 12, '470090107004': 10, '4506...</td>\n",
       "      <td>1</td>\n",
       "    </tr>\n",
       "    <tr>\n",
       "      <th>169</th>\n",
       "      <td>sg:e888f399ebec48d5b37ec1afec46dbc0</td>\n",
       "      <td>Horseshoe Canyon</td>\n",
       "      <td>Wayne</td>\n",
       "      <td>UT</td>\n",
       "      <td>4284</td>\n",
       "      <td>38.448329</td>\n",
       "      <td>-110.205783</td>\n",
       "      <td>NaN</td>\n",
       "      <td>NaN</td>\n",
       "      <td>{}</td>\n",
       "      <td>1</td>\n",
       "    </tr>\n",
       "    <tr>\n",
       "      <th>2338</th>\n",
       "      <td>sg:3916d65e7fa4422d86cc2703ab9c4797</td>\n",
       "      <td>Cuyahoga Valley National Park</td>\n",
       "      <td>Brecksville</td>\n",
       "      <td>OH</td>\n",
       "      <td>44067</td>\n",
       "      <td>41.264908</td>\n",
       "      <td>-81.536843</td>\n",
       "      <td>2020-01-01T00:00:00-05:00</td>\n",
       "      <td>2020-02-01T00:00:00-05:00</td>\n",
       "      <td>{'390351351061': 196, '390351351052': 84, '390...</td>\n",
       "      <td>1</td>\n",
       "    </tr>\n",
       "    <tr>\n",
       "      <th>3052</th>\n",
       "      <td>sg:2bf85cfa586042febbc4fd8ccb9e97f7</td>\n",
       "      <td>Telescope Peak</td>\n",
       "      <td>Death Valley</td>\n",
       "      <td>CA</td>\n",
       "      <td>92328</td>\n",
       "      <td>36.230023</td>\n",
       "      <td>-117.068341</td>\n",
       "      <td>NaN</td>\n",
       "      <td>NaN</td>\n",
       "      <td>{}</td>\n",
       "      <td>1</td>\n",
       "    </tr>\n",
       "    <tr>\n",
       "      <th>3275</th>\n",
       "      <td>sg:713666d8fabc4356ae7ac32216cf72f6</td>\n",
       "      <td>Mt Healy Overlook Trail</td>\n",
       "      <td>Denali National Park</td>\n",
       "      <td>AK</td>\n",
       "      <td>99755</td>\n",
       "      <td>63.733085</td>\n",
       "      <td>-148.925416</td>\n",
       "      <td>NaN</td>\n",
       "      <td>NaN</td>\n",
       "      <td>{}</td>\n",
       "      <td>1</td>\n",
       "    </tr>\n",
       "    <tr>\n",
       "      <th>...</th>\n",
       "      <td>...</td>\n",
       "      <td>...</td>\n",
       "      <td>...</td>\n",
       "      <td>...</td>\n",
       "      <td>...</td>\n",
       "      <td>...</td>\n",
       "      <td>...</td>\n",
       "      <td>...</td>\n",
       "      <td>...</td>\n",
       "      <td>...</td>\n",
       "      <td>...</td>\n",
       "    </tr>\n",
       "    <tr>\n",
       "      <th>5424480</th>\n",
       "      <td>sg:a9ab6b1abe60476cbe2c73d628405bed</td>\n",
       "      <td>Sequoia National Forest</td>\n",
       "      <td>Porterville</td>\n",
       "      <td>CA</td>\n",
       "      <td>93257</td>\n",
       "      <td>36.032444</td>\n",
       "      <td>-119.078678</td>\n",
       "      <td>2018-09-01T00:00:00-07:00</td>\n",
       "      <td>2018-10-01T00:00:00-07:00</td>\n",
       "      <td>{'061070041021': 4}</td>\n",
       "      <td>1</td>\n",
       "    </tr>\n",
       "    <tr>\n",
       "      <th>5425292</th>\n",
       "      <td>sg:c11b871760f24551bdd201b7c675fee0</td>\n",
       "      <td>Fort Washington National Park</td>\n",
       "      <td>Fort Washington</td>\n",
       "      <td>MD</td>\n",
       "      <td>20744</td>\n",
       "      <td>38.712606</td>\n",
       "      <td>-77.033165</td>\n",
       "      <td>2018-09-01T00:00:00-04:00</td>\n",
       "      <td>2018-10-01T00:00:00-04:00</td>\n",
       "      <td>{'110010088041': 4, '510990402002': 4, '510594...</td>\n",
       "      <td>1</td>\n",
       "    </tr>\n",
       "    <tr>\n",
       "      <th>5432046</th>\n",
       "      <td>sg:866f9b9ef1f74db78186709838f32203</td>\n",
       "      <td>Mesquite Flat Sand Dunes</td>\n",
       "      <td>Death Valley</td>\n",
       "      <td>CA</td>\n",
       "      <td>92328</td>\n",
       "      <td>36.615133</td>\n",
       "      <td>-117.113132</td>\n",
       "      <td>NaN</td>\n",
       "      <td>NaN</td>\n",
       "      <td>{}</td>\n",
       "      <td>1</td>\n",
       "    </tr>\n",
       "    <tr>\n",
       "      <th>5432182</th>\n",
       "      <td>sg:3d225ec77311428c892c14f36df52d6c</td>\n",
       "      <td>Sunset Point Trail</td>\n",
       "      <td>Fruita</td>\n",
       "      <td>UT</td>\n",
       "      <td>84775</td>\n",
       "      <td>38.296984</td>\n",
       "      <td>-111.294333</td>\n",
       "      <td>2018-09-01T00:00:00-06:00</td>\n",
       "      <td>2018-10-01T00:00:00-06:00</td>\n",
       "      <td>{}</td>\n",
       "      <td>1</td>\n",
       "    </tr>\n",
       "    <tr>\n",
       "      <th>5433288</th>\n",
       "      <td>sg:568464ff3d33482c87076e0caf7f2a98</td>\n",
       "      <td>Shenandoah National Park</td>\n",
       "      <td>Luray</td>\n",
       "      <td>VA</td>\n",
       "      <td>22835</td>\n",
       "      <td>38.663201</td>\n",
       "      <td>-78.372156</td>\n",
       "      <td>2018-09-01T00:00:00-04:00</td>\n",
       "      <td>2018-10-01T00:00:00-04:00</td>\n",
       "      <td>{'511390304005': 4}</td>\n",
       "      <td>1</td>\n",
       "    </tr>\n",
       "  </tbody>\n",
       "</table>\n",
       "<p>2905 rows × 11 columns</p>\n",
       "</div>"
      ],
      "text/plain": [
       "                          safegraph_place_id  ... national_park\n",
       "48       sg:83ea967f91374e609cdf05d725601b43  ...             1\n",
       "169      sg:e888f399ebec48d5b37ec1afec46dbc0  ...             1\n",
       "2338     sg:3916d65e7fa4422d86cc2703ab9c4797  ...             1\n",
       "3052     sg:2bf85cfa586042febbc4fd8ccb9e97f7  ...             1\n",
       "3275     sg:713666d8fabc4356ae7ac32216cf72f6  ...             1\n",
       "...                                      ...  ...           ...\n",
       "5424480  sg:a9ab6b1abe60476cbe2c73d628405bed  ...             1\n",
       "5425292  sg:c11b871760f24551bdd201b7c675fee0  ...             1\n",
       "5432046  sg:866f9b9ef1f74db78186709838f32203  ...             1\n",
       "5432182  sg:3d225ec77311428c892c14f36df52d6c  ...             1\n",
       "5433288  sg:568464ff3d33482c87076e0caf7f2a98  ...             1\n",
       "\n",
       "[2905 rows x 11 columns]"
      ]
     },
     "execution_count": 9,
     "metadata": {
      "tags": []
     },
     "output_type": "execute_result"
    }
   ],
   "source": [
    "# Filtering the data\n",
    "data=data.drop([\"Unnamed: 0\"], axis=1)\n",
    "national_data=data.loc[data['national_park'] == 1]\n",
    "national_data"
   ]
  },
  {
   "cell_type": "code",
   "execution_count": null,
   "metadata": {
    "id": "2riZ-AmE-9Ra"
   },
   "outputs": [],
   "source": [
    "# Read data\n",
    "national_data.to_csv('combined_national.csv') "
   ]
  }
 ],
 "metadata": {
  "colab": {
   "collapsed_sections": [],
   "machine_shape": "hm",
   "name": "filtration of national parks.ipynb",
   "provenance": []
  },
  "kernelspec": {
   "display_name": "Python 3",
   "language": "python",
   "name": "python3"
  },
  "language_info": {
   "codemirror_mode": {
    "name": "ipython",
    "version": 3
   },
   "file_extension": ".py",
   "mimetype": "text/x-python",
   "name": "python",
   "nbconvert_exporter": "python",
   "pygments_lexer": "ipython3",
   "version": "3.8.5"
  }
 },
 "nbformat": 4,
 "nbformat_minor": 1
}

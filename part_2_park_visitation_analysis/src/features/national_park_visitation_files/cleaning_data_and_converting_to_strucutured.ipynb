{
 "cells": [
  {
   "cell_type": "code",
   "execution_count": 29,
   "metadata": {
    "executionInfo": {
     "elapsed": 493,
     "status": "ok",
     "timestamp": 1616551296713,
     "user": {
      "displayName": "Charles J Alba",
      "photoUrl": "",
      "userId": "04453837260567781183"
     },
     "user_tz": 240
    },
    "id": "qZzZqPyJR_Im"
   },
   "outputs": [],
   "source": [
    "# Import the library\n",
    "%matplotlib inline\n",
    "import numpy as np\n",
    "import pandas as pd\n",
    "from statsmodels.formula.api import ols\n",
    "from sklearn.linear_model import LinearRegression\n",
    "from mpl_toolkits.mplot3d import Axes3D \n",
    "from sklearn import linear_model\n",
    "import seaborn as sns\n",
    "from statsmodels.graphics.gofplots import ProbPlot\n",
    "from statsmodels.compat import lzip\n",
    "import statsmodels.stats.api as sms\n",
    "from statsmodels.stats.outliers_influence import variance_inflation_factor\n",
    "import statsmodels.api as sm \n",
    "from sklearn.linear_model import Lasso\n",
    "from sklearn.linear_model import LinearRegression\n",
    "from sklearn.model_selection import train_test_split\n",
    "from sklearn import metrics\n",
    "from sklearn import linear_model\n",
    "from pandas import DataFrame\n",
    "import math\n",
    "import numpy\n",
    "from statistics import *\n",
    "from numpy import nan\n",
    "import json "
   ]
  },
  {
   "cell_type": "code",
   "execution_count": 30,
   "metadata": {
    "colab": {
     "base_uri": "https://localhost:8080/"
    },
    "executionInfo": {
     "elapsed": 493,
     "status": "ok",
     "timestamp": 1616551299589,
     "user": {
      "displayName": "Charles J Alba",
      "photoUrl": "",
      "userId": "04453837260567781183"
     },
     "user_tz": 240
    },
    "id": "l6cG5dP9SD9p",
    "outputId": "f9e43946-b9bf-42de-cc7a-b72877b10a59"
   },
   "outputs": [
    {
     "name": "stdout",
     "output_type": "stream",
     "text": [
      "Drive already mounted at /content/drive/; to attempt to forcibly remount, call drive.mount(\"/content/drive/\", force_remount=True).\n",
      "/content/drive/.shortcut-targets-by-id/1yd8M4YuDK5d4rLAguMN33UbjJKW5j3ZD/Park_visitation\n",
      "/content/drive/.shortcut-targets-by-id/1yd8M4YuDK5d4rLAguMN33UbjJKW5j3ZD/Park_visitation\n"
     ]
    }
   ],
   "source": [
    "# Read data\n",
    "from google.colab import drive\n",
    "drive.mount(\"/content/drive/\")\n",
    "%cd '/content/drive/My Drive/Park_visitation'\n",
    "!pwd #Prints the present working directory\n",
    "data = pd.read_csv('combined_national.csv')\n",
    "safegraph_place_id=data[\"safegraph_place_id\"]"
   ]
  },
  {
   "cell_type": "code",
   "execution_count": 34,
   "metadata": {
    "executionInfo": {
     "elapsed": 463,
     "status": "ok",
     "timestamp": 1616551310311,
     "user": {
      "displayName": "Charles J Alba",
      "photoUrl": "",
      "userId": "04453837260567781183"
     },
     "user_tz": 240
    },
    "id": "SsMJlS6_zasL"
   },
   "outputs": [],
   "source": [
    "# Clean the data and turn the data from unstructured to structured\n",
    "d=data[\"visitor_home_cbgs\"]\n",
    "def string_to_dict(dict_string):\n",
    "    # Convert to proper json format\n",
    "    dict_string = dict_string.replace(\"'\", '\"')\n",
    "    return json.loads(dict_string)\n",
    "\n",
    "data.visitor_home_cbgs = data.visitor_home_cbgs.apply(string_to_dict)\n",
    "ordered_list_of_id=[]\n",
    "for i in range(0,(len(d))):\n",
    "  #x=d[i]\n",
    "  #safe_graph_id_for_this=safegraph_place_id[i]\n",
    "  for n in range(0, (len(d[i]))):\n",
    "    #whole_dict_element=list((d[i]).items())[n]\n",
    "    #key_element=list(d[i])[n]\n",
    "    #new_key=key_element+safegraph_place_id[i]\n",
    "    #(d[i])[new_key] = (d[i]).pop(key_element)\n",
    "    ordered_list_of_id.append(safegraph_place_id[i])\n",
    "    \n",
    "ordered_list_of_id=[]\n",
    "for i in range(0,(len(d))):\n",
    "  #x=d[i]\n",
    "  #safe_graph_id_for_this=safegraph_place_id[i]\n",
    "  for n in range(0, (len(d[i]))):\n",
    "    #whole_dict_element=list((d[i]).items())[n]\n",
    "    #key_element=list(d[i])[n]\n",
    "    #new_key=key_element+safegraph_place_id[i]\n",
    "    #(d[i])[new_key] = (d[i]).pop(key_element)\n",
    "    ordered_list_of_id.append(safegraph_place_id[i])\n",
    "    \n",
    "census_block_values=[]\n",
    "for i in range(0,(len(d))):\n",
    "  #x=d[i]\n",
    "  #safe_graph_id_for_this=safegraph_place_id[i]\n",
    "  for n in range(0, (len(d[i]))):\n",
    "    #whole_dict_element=list((d[i]).items())[n]\n",
    "    key_element=list(d[i])[n]\n",
    "    #new_key=key_element+safegraph_place_id[i]\n",
    "    #(d[i])[new_key] = (d[i]).pop(key_element)\n",
    "    #print(key_element)\n",
    "    val=(d[i]).get(key_element)\n",
    "    census_block_values.append(val)\n",
    "    \n",
    "def theforloop(d, wanted_list):\n",
    "  list1=[]\n",
    "  for i in range(0, (len(d))):\n",
    "    for n in range(0, (len(d[i]))):\n",
    "      val=wanted_list[i]\n",
    "      list1.append(val)\n",
    "  return (list1)\n",
    "\n",
    "start=data[\"date_range_start\"]\n",
    "end=data[\"date_range_end\"]\n",
    "starting_dates_list=theforloop(d,start)\n",
    "ending_dates_list=theforloop(d,end)"
   ]
  },
  {
   "cell_type": "code",
   "execution_count": 42,
   "metadata": {
    "executionInfo": {
     "elapsed": 496,
     "status": "ok",
     "timestamp": 1616551338201,
     "user": {
      "displayName": "Charles J Alba",
      "photoUrl": "",
      "userId": "04453837260567781183"
     },
     "user_tz": 240
    },
    "id": "czUD0zfQ0Jx6"
   },
   "outputs": [],
   "source": [
    "# extract and find out relevant information \n",
    "def to_include_relevant_data(d, wanted_list):\n",
    "  list2=[]\n",
    "  for i in range(0,(len(d))):\n",
    "    for n in range(0, (len(d[i]))):\n",
    "      val=wanted_list[i]\n",
    "      list2.append(val)\n",
    "  return (list2)\n",
    "\n",
    "\n",
    "start_dates_list=to_include_relevant_data(d,data[\"date_range_start\"])\n",
    "ending_dates_list=to_include_relevant_data(d,data[\"date_range_end\"])\n",
    "location_list=to_include_relevant_data(d,data[\"location_name\"])\n",
    "region_list=to_include_relevant_data(d,data[\"region\"])\n",
    "postal_list=to_include_relevant_data(d,data[\"postal_code\"])\n",
    "latitude_list=to_include_relevant_data(d,data[\"latitude\"])\n",
    "longitude_list=to_include_relevant_data(d,data['longitude'])\n",
    "city_list=to_include_relevant_data(d,data[\"city\"])\n"
   ]
  },
  {
   "cell_type": "code",
   "execution_count": 45,
   "metadata": {
    "colab": {
     "base_uri": "https://localhost:8080/",
     "height": 419
    },
    "executionInfo": {
     "elapsed": 473,
     "status": "ok",
     "timestamp": 1616551366141,
     "user": {
      "displayName": "Charles J Alba",
      "photoUrl": "",
      "userId": "04453837260567781183"
     },
     "user_tz": 240
    },
    "id": "vfWKDgmC-fGd",
    "outputId": "ce87bedb-07f3-4e72-a369-267e76de3e53"
   },
   "outputs": [
    {
     "data": {
      "text/html": [
       "<div>\n",
       "<style scoped>\n",
       "    .dataframe tbody tr th:only-of-type {\n",
       "        vertical-align: middle;\n",
       "    }\n",
       "\n",
       "    .dataframe tbody tr th {\n",
       "        vertical-align: top;\n",
       "    }\n",
       "\n",
       "    .dataframe thead th {\n",
       "        text-align: right;\n",
       "    }\n",
       "</style>\n",
       "<table border=\"1\" class=\"dataframe\">\n",
       "  <thead>\n",
       "    <tr style=\"text-align: right;\">\n",
       "      <th></th>\n",
       "      <th>vistor_census_block</th>\n",
       "      <th>vistor_count</th>\n",
       "      <th>safegraph_place_id</th>\n",
       "      <th>date_range_start</th>\n",
       "      <th>date_range_end</th>\n",
       "      <th>location_name</th>\n",
       "      <th>region</th>\n",
       "      <th>postal_code</th>\n",
       "      <th>city</th>\n",
       "    </tr>\n",
       "  </thead>\n",
       "  <tbody>\n",
       "    <tr>\n",
       "      <th>0</th>\n",
       "      <td>360811459002</td>\n",
       "      <td>12</td>\n",
       "      <td>sg:83ea967f91374e609cdf05d725601b43</td>\n",
       "      <td>2020-01-01T00:00:00-05:00</td>\n",
       "      <td>2020-02-01T00:00:00-05:00</td>\n",
       "      <td>Congaree National Park</td>\n",
       "      <td>SC</td>\n",
       "      <td>29061</td>\n",
       "      <td>Gadsden</td>\n",
       "    </tr>\n",
       "    <tr>\n",
       "      <th>1</th>\n",
       "      <td>470090107004</td>\n",
       "      <td>10</td>\n",
       "      <td>sg:83ea967f91374e609cdf05d725601b43</td>\n",
       "      <td>2020-01-01T00:00:00-05:00</td>\n",
       "      <td>2020-02-01T00:00:00-05:00</td>\n",
       "      <td>Congaree National Park</td>\n",
       "      <td>SC</td>\n",
       "      <td>29061</td>\n",
       "      <td>Gadsden</td>\n",
       "    </tr>\n",
       "    <tr>\n",
       "      <th>2</th>\n",
       "      <td>450630211151</td>\n",
       "      <td>7</td>\n",
       "      <td>sg:83ea967f91374e609cdf05d725601b43</td>\n",
       "      <td>2020-01-01T00:00:00-05:00</td>\n",
       "      <td>2020-02-01T00:00:00-05:00</td>\n",
       "      <td>Congaree National Park</td>\n",
       "      <td>SC</td>\n",
       "      <td>29061</td>\n",
       "      <td>Gadsden</td>\n",
       "    </tr>\n",
       "    <tr>\n",
       "      <th>3</th>\n",
       "      <td>450790116031</td>\n",
       "      <td>7</td>\n",
       "      <td>sg:83ea967f91374e609cdf05d725601b43</td>\n",
       "      <td>2020-01-01T00:00:00-05:00</td>\n",
       "      <td>2020-02-01T00:00:00-05:00</td>\n",
       "      <td>Congaree National Park</td>\n",
       "      <td>SC</td>\n",
       "      <td>29061</td>\n",
       "      <td>Gadsden</td>\n",
       "    </tr>\n",
       "    <tr>\n",
       "      <th>4</th>\n",
       "      <td>450119701001</td>\n",
       "      <td>5</td>\n",
       "      <td>sg:83ea967f91374e609cdf05d725601b43</td>\n",
       "      <td>2020-01-01T00:00:00-05:00</td>\n",
       "      <td>2020-02-01T00:00:00-05:00</td>\n",
       "      <td>Congaree National Park</td>\n",
       "      <td>SC</td>\n",
       "      <td>29061</td>\n",
       "      <td>Gadsden</td>\n",
       "    </tr>\n",
       "    <tr>\n",
       "      <th>...</th>\n",
       "      <td>...</td>\n",
       "      <td>...</td>\n",
       "      <td>...</td>\n",
       "      <td>...</td>\n",
       "      <td>...</td>\n",
       "      <td>...</td>\n",
       "      <td>...</td>\n",
       "      <td>...</td>\n",
       "      <td>...</td>\n",
       "    </tr>\n",
       "    <tr>\n",
       "      <th>117710</th>\n",
       "      <td>240338018071</td>\n",
       "      <td>4</td>\n",
       "      <td>sg:c11b871760f24551bdd201b7c675fee0</td>\n",
       "      <td>2018-09-01T00:00:00-04:00</td>\n",
       "      <td>2018-10-01T00:00:00-04:00</td>\n",
       "      <td>Fort Washington National Park</td>\n",
       "      <td>MD</td>\n",
       "      <td>20744</td>\n",
       "      <td>Fort Washington</td>\n",
       "    </tr>\n",
       "    <tr>\n",
       "      <th>117711</th>\n",
       "      <td>240338013092</td>\n",
       "      <td>4</td>\n",
       "      <td>sg:c11b871760f24551bdd201b7c675fee0</td>\n",
       "      <td>2018-09-01T00:00:00-04:00</td>\n",
       "      <td>2018-10-01T00:00:00-04:00</td>\n",
       "      <td>Fort Washington National Park</td>\n",
       "      <td>MD</td>\n",
       "      <td>20744</td>\n",
       "      <td>Fort Washington</td>\n",
       "    </tr>\n",
       "    <tr>\n",
       "      <th>117712</th>\n",
       "      <td>510594408003</td>\n",
       "      <td>4</td>\n",
       "      <td>sg:c11b871760f24551bdd201b7c675fee0</td>\n",
       "      <td>2018-09-01T00:00:00-04:00</td>\n",
       "      <td>2018-10-01T00:00:00-04:00</td>\n",
       "      <td>Fort Washington National Park</td>\n",
       "      <td>MD</td>\n",
       "      <td>20744</td>\n",
       "      <td>Fort Washington</td>\n",
       "    </tr>\n",
       "    <tr>\n",
       "      <th>117713</th>\n",
       "      <td>510310204011</td>\n",
       "      <td>4</td>\n",
       "      <td>sg:c11b871760f24551bdd201b7c675fee0</td>\n",
       "      <td>2018-09-01T00:00:00-04:00</td>\n",
       "      <td>2018-10-01T00:00:00-04:00</td>\n",
       "      <td>Fort Washington National Park</td>\n",
       "      <td>MD</td>\n",
       "      <td>20744</td>\n",
       "      <td>Fort Washington</td>\n",
       "    </tr>\n",
       "    <tr>\n",
       "      <th>117714</th>\n",
       "      <td>511390304005</td>\n",
       "      <td>4</td>\n",
       "      <td>sg:568464ff3d33482c87076e0caf7f2a98</td>\n",
       "      <td>2018-09-01T00:00:00-04:00</td>\n",
       "      <td>2018-10-01T00:00:00-04:00</td>\n",
       "      <td>Shenandoah National Park</td>\n",
       "      <td>VA</td>\n",
       "      <td>22835</td>\n",
       "      <td>Luray</td>\n",
       "    </tr>\n",
       "  </tbody>\n",
       "</table>\n",
       "<p>117715 rows × 9 columns</p>\n",
       "</div>"
      ],
      "text/plain": [
       "       vistor_census_block  vistor_count  ... postal_code             city\n",
       "0             360811459002            12  ...       29061          Gadsden\n",
       "1             470090107004            10  ...       29061          Gadsden\n",
       "2             450630211151             7  ...       29061          Gadsden\n",
       "3             450790116031             7  ...       29061          Gadsden\n",
       "4             450119701001             5  ...       29061          Gadsden\n",
       "...                    ...           ...  ...         ...              ...\n",
       "117710        240338018071             4  ...       20744  Fort Washington\n",
       "117711        240338013092             4  ...       20744  Fort Washington\n",
       "117712        510594408003             4  ...       20744  Fort Washington\n",
       "117713        510310204011             4  ...       20744  Fort Washington\n",
       "117714        511390304005             4  ...       22835            Luray\n",
       "\n",
       "[117715 rows x 9 columns]"
      ]
     },
     "execution_count": 45,
     "metadata": {
      "tags": []
     },
     "output_type": "execute_result"
    }
   ],
   "source": [
    "# read into a dataframe\n",
    "our_data=pd.DataFrame()\n",
    "our_data[\"vistor_census_block\"]=census_block_list\n",
    "our_data[\"vistor_count\"]=census_block_values\n",
    "our_data[\"safegraph_place_id\"]=ordered_list_of_id\n",
    "our_data[\"date_range_start\"]=starting_dates_list\n",
    "our_data[\"date_range_end\"]=ending_dates_list\n",
    "our_data[\"location_name\"]=location_list\n",
    "our_data[\"region\"]=region_list\n",
    "our_data[\"postal_code\"]=postal_list\n",
    "our_data[\"city\"]=city_list\n",
    "our_data"
   ]
  },
  {
   "cell_type": "code",
   "execution_count": 46,
   "metadata": {
    "executionInfo": {
     "elapsed": 1327,
     "status": "ok",
     "timestamp": 1616551373499,
     "user": {
      "displayName": "Charles J Alba",
      "photoUrl": "",
      "userId": "04453837260567781183"
     },
     "user_tz": 240
    },
    "id": "2riZ-AmE-9Ra"
   },
   "outputs": [],
   "source": [
    "# Write data\n",
    "our_data.to_csv('aggragated.national.data.csv') "
   ]
  }
 ],
 "metadata": {
  "colab": {
   "collapsed_sections": [],
   "machine_shape": "hm",
   "name": "park_sample.ipynb",
   "provenance": []
  },
  "kernelspec": {
   "display_name": "Python 3",
   "language": "python",
   "name": "python3"
  },
  "language_info": {
   "codemirror_mode": {
    "name": "ipython",
    "version": 3
   },
   "file_extension": ".py",
   "mimetype": "text/x-python",
   "name": "python",
   "nbconvert_exporter": "python",
   "pygments_lexer": "ipython3",
   "version": "3.8.5"
  }
 },
 "nbformat": 4,
 "nbformat_minor": 1
}

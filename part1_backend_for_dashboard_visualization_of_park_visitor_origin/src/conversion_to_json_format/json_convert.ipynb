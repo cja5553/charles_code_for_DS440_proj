{
  "nbformat": 4,
  "nbformat_minor": 0,
  "metadata": {
    "colab": {
      "name": "json_convert.ipynb",
      "provenance": [],
      "collapsed_sections": [],
      "machine_shape": "hm"
    },
    "kernelspec": {
      "name": "python3",
      "display_name": "Python 3"
    },
    "language_info": {
      "name": "python"
    }
  },
  "cells": [
    {
      "cell_type": "code",
      "metadata": {
        "id": "eJFy0J890Hih",
        "colab": {
          "base_uri": "https://localhost:8080/"
        },
        "outputId": "f3d65111-a989-4643-a2f9-9238dc1d7096"
      },
      "source": [
        "# import the libraries \n",
        "%matplotlib inline\n",
        "import numpy as np\n",
        "import pandas as pd\n",
        "from statsmodels.formula.api import ols\n",
        "from sklearn.linear_model import LinearRegression\n",
        "from mpl_toolkits.mplot3d import Axes3D \n",
        "from sklearn import linear_model\n",
        "import seaborn as sns\n",
        "from statsmodels.graphics.gofplots import ProbPlot\n",
        "from statsmodels.compat import lzip\n",
        "import statsmodels.stats.api as sms\n",
        "from statsmodels.stats.outliers_influence import variance_inflation_factor\n",
        "import statsmodels.api as sm \n",
        "from sklearn.linear_model import Lasso\n",
        "from sklearn.linear_model import LinearRegression\n",
        "from sklearn.model_selection import train_test_split\n",
        "from sklearn import metrics\n",
        "from sklearn import linear_model\n",
        "from pandas import DataFrame\n",
        "import math\n",
        "import numpy\n",
        "from statistics import *\n",
        "from numpy import nan\n",
        "import json \n",
        "import pandas as pd\n",
        "from tqdm import tqdm\n",
        "\n"
      ],
      "execution_count": null,
      "outputs": [
        {
          "output_type": "stream",
          "text": [
            "/usr/local/lib/python3.7/dist-packages/statsmodels/tools/_testing.py:19: FutureWarning: pandas.util.testing is deprecated. Use the functions in the public API at pandas.testing instead.\n",
            "  import pandas.util.testing as tm\n"
          ],
          "name": "stderr"
        }
      ]
    },
    {
      "cell_type": "code",
      "metadata": {
        "colab": {
          "base_uri": "https://localhost:8080/"
        },
        "id": "hhBiQ2_q0R3s",
        "outputId": "0a6392d2-a1ac-4c06-bb73-20b99d38d993"
      },
      "source": [
        "# read the dataset\n",
        "from google.colab import drive\n",
        "drive.mount(\"/content/drive/\")\n",
        "%cd '/content/drive/My Drive/DS440/JSON conversion'\n",
        "!pwd #Prints the present working directory\n",
        "data = pd.read_csv('covid_mean_aggregated.csv')\n",
        "data=data.drop(['Unnamed: 0','lat', 'long'], axis=1)\n",
        "safegraph=data[\"safegraph_place_id\"]\n",
        "safegraph_list=list(set(safegraph))"
      ],
      "execution_count": null,
      "outputs": [
        {
          "output_type": "stream",
          "text": [
            "Mounted at /content/drive/\n",
            "/content/drive/My Drive/DS440/JSON conversion\n",
            "/content/drive/My Drive/DS440/JSON conversion\n"
          ],
          "name": "stdout"
        }
      ]
    },
    {
      "cell_type": "code",
      "metadata": {
        "id": "Vq-IjDNwWZXX"
      },
      "source": [
        "# convert to dictionary\n",
        "def dict_conv(safegraph_list,data):\n",
        "  list_of_dict=[]\n",
        "  for i in tqdm(range(0, len(safegraph_list))):\n",
        "    interest=safegraph_list[i]\n",
        "    data_interest=data.loc[data['safegraph_place_id'] == interest]\n",
        "    new_dict={}\n",
        "    for j in (range(0,len(data_interest[\"vistor_census_block\"]))):\n",
        "      visitor_count=data_interest.iloc[j].loc['mean_monthly_visitations']\n",
        "      long=data_interest.iloc[j].loc['census_longitude']\n",
        "      lat=data_interest.iloc[j].loc['census_latitude']\n",
        "      visitor_cbg=str(data_interest.iloc[j].loc['vistor_census_block'])\n",
        "      key_long=str(visitor_cbg)+\"_longitude\"\n",
        "      key_lat=str(visitor_cbg)+\"_latitude\"\n",
        "      new_dict[visitor_cbg]= visitor_count\n",
        "      new_dict[key_long]= long\n",
        "      new_dict[key_lat]= lat\n",
        "    list_of_dict.append(new_dict)\n",
        "  return list_of_dict\n",
        "list_of_dict=dict_conv(safegraph_list,data)\n",
        "new_data = pd.DataFrame()\n",
        "new_data[\"safegraph_id\"]=safegraph_list\n",
        "new_data[\"dictionary\"]=list_of_dict\n",
        "# new_data.to_csv('json_ready_file.csv')"
      ],
      "execution_count": null,
      "outputs": []
    },
    {
      "cell_type": "code",
      "metadata": {
        "id": "imHN_SAKXrHk",
        "colab": {
          "base_uri": "https://localhost:8080/"
        },
        "outputId": "8f33f788-0df6-4182-88bc-8a38fb4a0a2e"
      },
      "source": [
        "# add poi into dictionary\n",
        "def add_poi(dictionary, poi):\n",
        "  new=[]\n",
        "  for i in tqdm(range(0,len(poi))):\n",
        "    thisdict=dictionary[i]\n",
        "    value=poi[i]\n",
        "    thisdict[\"safegraph_place_id\"]=value\n",
        "    new.append(thisdict)\n",
        "  return new\n",
        "new=add_poi(dictionary, poi)\n"
      ],
      "execution_count": null,
      "outputs": [
        {
          "output_type": "stream",
          "text": [
            "100%|██████████| 120266/120266 [7:12:56<00:00,  4.63it/s]\n"
          ],
          "name": "stderr"
        }
      ]
    },
    {
      "cell_type": "code",
      "metadata": {
        "id": "glSnf8MVHe15"
      },
      "source": ["# part of this code comes from https://www.bogotobogo.com/python/python-json-dumps-loads-file-read-write.php\n",
        "# convert to JSON and write file\n",
        "import json\n",
        "with open('COVID.json', 'w') as fout:\n",
        "    json.dump(new, fout)"
      ],
      "execution_count": null,
      "outputs": []
    }
  ]
}

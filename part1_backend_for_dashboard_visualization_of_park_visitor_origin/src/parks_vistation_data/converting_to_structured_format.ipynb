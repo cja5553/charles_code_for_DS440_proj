{
 "cells": [
  {
   "cell_type": "code",
   "execution_count": null,
   "metadata": {
    "colab": {
     "base_uri": "https://localhost:8080/"
    },
    "executionInfo": {
     "elapsed": 3212,
     "status": "ok",
     "timestamp": 1617759633815,
     "user": {
      "displayName": "Charles J Alba",
      "photoUrl": "",
      "userId": "04453837260567781183"
     },
     "user_tz": 240
    },
    "id": "qZzZqPyJR_Im",
    "outputId": "dbdf5b67-980f-42fb-e42d-aa66a99a3850"
   },
   "outputs": [
    {
     "name": "stderr",
     "output_type": "stream",
     "text": [
      "/usr/local/lib/python3.7/dist-packages/statsmodels/tools/_testing.py:19: FutureWarning: pandas.util.testing is deprecated. Use the functions in the public API at pandas.testing instead.\n",
      "  import pandas.util.testing as tm\n"
     ]
    }
   ],
   "source": [
    "%matplotlib inline\n",
    "import numpy as np\n",
    "import pandas as pd\n",
    "from statsmodels.formula.api import ols\n",
    "from sklearn.linear_model import LinearRegression\n",
    "from mpl_toolkits.mplot3d import Axes3D \n",
    "from sklearn import linear_model\n",
    "import seaborn as sns\n",
    "from statsmodels.graphics.gofplots import ProbPlot\n",
    "from statsmodels.compat import lzip\n",
    "import statsmodels.stats.api as sms\n",
    "from statsmodels.stats.outliers_influence import variance_inflation_factor\n",
    "import statsmodels.api as sm \n",
    "from sklearn.linear_model import Lasso\n",
    "from sklearn.linear_model import LinearRegression\n",
    "from sklearn.model_selection import train_test_split\n",
    "from sklearn import metrics\n",
    "from sklearn import linear_model\n",
    "from pandas import DataFrame\n",
    "import math\n",
    "import numpy\n",
    "from statistics import *\n",
    "from numpy import nan\n",
    "import json "
   ]
  },
  {
   "cell_type": "code",
   "execution_count": null,
   "metadata": {
    "colab": {
     "base_uri": "https://localhost:8080/"
    },
    "executionInfo": {
     "elapsed": 39806,
     "status": "ok",
     "timestamp": 1617759675976,
     "user": {
      "displayName": "Charles J Alba",
      "photoUrl": "",
      "userId": "04453837260567781183"
     },
     "user_tz": 240
    },
    "id": "l6cG5dP9SD9p",
    "outputId": "aa6c8405-6870-43b3-af1c-f1880b7e7826"
   },
   "outputs": [
    {
     "name": "stdout",
     "output_type": "stream",
     "text": [
      "Mounted at /content/drive/\n",
      "/content/drive/.shortcut-targets-by-id/1wxiitqxEJbExHAayMXt1dxD20MrozfKs/2020-2021\n",
      "/content/drive/.shortcut-targets-by-id/1wxiitqxEJbExHAayMXt1dxD20MrozfKs/2020-2021\n"
     ]
    }
   ],
   "source": [
    "# Make suitable changes here. My .csv file is in :  My Drive/Colab Notebooks\n",
    "from google.colab import drive\n",
    "drive.mount(\"/content/drive/\")\n",
    "%cd '/content/drive/My Drive'\n",
    "!pwd #Prints the present working directory\n",
    "data = pd.read_csv('data.csv')\n"
   ]
  },
  {
   "cell_type": "code",
   "execution_count": null,
   "metadata": {
    "id": "Bz-TDVEg2uiD"
   },
   "outputs": [],
   "source": [
    "safegraph_place_id=data[\"safegraph_place_id\"]"
   ]
  },
  {
   "cell_type": "code",
   "execution_count": null,
   "metadata": {
    "colab": {
     "base_uri": "https://localhost:8080/"
    },
    "executionInfo": {
     "elapsed": 503,
     "status": "ok",
     "timestamp": 1617759681201,
     "user": {
      "displayName": "Charles J Alba",
      "photoUrl": "",
      "userId": "04453837260567781183"
     },
     "user_tz": 240
    },
    "id": "8bJqkMIw26R7",
    "outputId": "65f1bcab-ec14-448e-fecb-965d18f5bccd"
   },
   "outputs": [
    {
     "data": {
      "text/plain": [
       "0          sg:00cddb8fcb394c79bbcd47ed609a6e6f\n",
       "1          sg:03ebfe3e177841c0b2ee06c46b78463b\n",
       "2          sg:08296b30359d417f92647b9084cab0ad\n",
       "3          sg:0937f1278b2849479c0748b0c3ac14d1\n",
       "4          sg:0b66fabec6454241b54862d337900126\n",
       "                          ...                 \n",
       "2144076    sg:f31442fb1aed4fd6b035a76b6d9d8956\n",
       "2144077    sg:f66059820c634a82b4396b66f7fd8d8f\n",
       "2144078    sg:f92f85be180f4f8aaf5f4e9a5ac0e3be\n",
       "2144079    sg:f9deee054bb746b9b1c704384747e06c\n",
       "2144080    sg:ff6a2bf579c946c6886fef14fba4233e\n",
       "Name: safegraph_place_id, Length: 2144081, dtype: object"
      ]
     },
     "execution_count": 4,
     "metadata": {
      "tags": []
     },
     "output_type": "execute_result"
    }
   ],
   "source": [
    "safegraph_place_id"
   ]
  },
  {
   "cell_type": "code",
   "execution_count": null,
   "metadata": {
    "id": "V0uq2ZtyT792"
   },
   "outputs": [],
   "source": [
    "d=data[\"visitor_home_cbgs\"]"
   ]
  },
  {
   "cell_type": "code",
   "execution_count": null,
   "metadata": {
    "id": "SsMJlS6_zasL"
   },
   "outputs": [],
   "source": [
    "def string_to_dict(dict_string):\n",
    "    # Convert to proper json format\n",
    "    dict_string = dict_string.replace(\"'\", '\"')\n",
    "    return json.loads(dict_string)\n",
    "\n",
    "data.visitor_home_cbgs = data.visitor_home_cbgs.apply(string_to_dict)"
   ]
  },
  {
   "cell_type": "code",
   "execution_count": null,
   "metadata": {
    "colab": {
     "base_uri": "https://localhost:8080/"
    },
    "executionInfo": {
     "elapsed": 459,
     "status": "ok",
     "timestamp": 1617759715423,
     "user": {
      "displayName": "Charles J Alba",
      "photoUrl": "",
      "userId": "04453837260567781183"
     },
     "user_tz": 240
    },
    "id": "4-KEx5ojzfgR",
    "outputId": "213e7d40-4916-4665-e5bd-4adbd929c474"
   },
   "outputs": [
    {
     "data": {
      "text/plain": [
       "dict"
      ]
     },
     "execution_count": 7,
     "metadata": {
      "tags": []
     },
     "output_type": "execute_result"
    }
   ],
   "source": [
    "type(d[2])"
   ]
  },
  {
   "cell_type": "code",
   "execution_count": null,
   "metadata": {
    "id": "N3GD_l3Cvfy7"
   },
   "outputs": [],
   "source": [
    "def orderedlist_for_id_loop(d, safegraph_place_id):\n",
    "  ordered_list_of_id=[]\n",
    "  for i in range(0,(len(d))):\n",
    "    #x=d[i]\n",
    "    #safe_graph_id_for_this=safegraph_place_id[i]\n",
    "    for n in range(0, (len(d[i]))):\n",
    "      #whole_dict_element=list((d[i]).items())[n]\n",
    "      #key_element=list(d[i])[n]\n",
    "      #new_key=key_element+safegraph_place_id[i]\n",
    "      #(d[i])[new_key] = (d[i]).pop(key_element)\n",
    "      ordered_list_of_id.append(safegraph_place_id[i])\n",
    "  return ordered_list_of_id"
   ]
  },
  {
   "cell_type": "code",
   "execution_count": null,
   "metadata": {
    "id": "cP7rWnUWz6Kl"
   },
   "outputs": [],
   "source": [
    "ordered_list_of_id=orderedlist_for_id_loop(d,safegraph_place_id)"
   ]
  },
  {
   "cell_type": "code",
   "execution_count": null,
   "metadata": {
    "id": "-JajwNUtcRl0"
   },
   "outputs": [],
   "source": [
    "def census_block_list_loop(d):\n",
    "  census_block_list=[]\n",
    "  for i in range(0,(len(d))):\n",
    "    #x=d[i]\n",
    "    #safe_graph_id_for_this=safegraph_place_id[i]\n",
    "    for n in range(0, (len(d[i]))):\n",
    "      #whole_dict_element=list((d[i]).items())[n]\n",
    "      key_element=list(d[i])[n]\n",
    "      #new_key=key_element+safegraph_place_id[i]\n",
    "      #(d[i])[new_key] = (d[i]).pop(key_element)\n",
    "      # print(key_element)\n",
    "      census_block_list.append(key_element)\n",
    "  return census_block_list"
   ]
  },
  {
   "cell_type": "code",
   "execution_count": null,
   "metadata": {
    "id": "ITPGlMZD0EoN"
   },
   "outputs": [],
   "source": [
    "census_block_list=census_block_list_loop(d)"
   ]
  },
  {
   "cell_type": "code",
   "execution_count": null,
   "metadata": {
    "colab": {
     "base_uri": "https://localhost:8080/"
    },
    "executionInfo": {
     "elapsed": 503,
     "status": "ok",
     "timestamp": 1617760215790,
     "user": {
      "displayName": "Charles J Alba",
      "photoUrl": "",
      "userId": "04453837260567781183"
     },
     "user_tz": 240
    },
    "id": "HhcGaHhRy6ft",
    "outputId": "ab4a71b7-2099-4450-b992-83c585b40179"
   },
   "outputs": [
    {
     "data": {
      "text/plain": [
       "['550250127002',\n",
       " '550250109044',\n",
       " '131210113052',\n",
       " '131210106013',\n",
       " '131210113031']"
      ]
     },
     "execution_count": 12,
     "metadata": {
      "tags": []
     },
     "output_type": "execute_result"
    }
   ],
   "source": [
    "census_block_list[:5]"
   ]
  },
  {
   "cell_type": "code",
   "execution_count": null,
   "metadata": {
    "id": "DRozLCDxwQQv"
   },
   "outputs": [],
   "source": [
    "import pickle\n",
    "with open(\"test.txt\", \"wb\") as fp:\n",
    "  pickle.dump(census_block_list, fp)"
   ]
  },
  {
   "cell_type": "code",
   "execution_count": null,
   "metadata": {
    "id": "njdNiJAPTJaR"
   },
   "outputs": [],
   "source": [
    "def census_block_values_loop(d):\n",
    "  census_block_values=[]\n",
    "  for i in range(0,(len(d))):\n",
    "    #x=d[i]\n",
    "    #safe_graph_id_for_this=safegraph_place_id[i]\n",
    "    for n in range(0, (len(d[i]))):\n",
    "      #whole_dict_element=list((d[i]).items())[n]\n",
    "      key_element=list(d[i])[n]\n",
    "      #new_key=key_element+safegraph_place_id[i]\n",
    "      #(d[i])[new_key] = (d[i]).pop(key_element)\n",
    "      #print(key_element)\n",
    "      val=(d[i]).get(key_element)\n",
    "      census_block_values.append(val)\n",
    "  return census_block_values\n"
   ]
  },
  {
   "cell_type": "code",
   "execution_count": null,
   "metadata": {
    "id": "nKGTi-ia0LFs"
   },
   "outputs": [],
   "source": [
    "\n",
    "census_block_values=census_block_values_loop(d)"
   ]
  },
  {
   "cell_type": "code",
   "execution_count": null,
   "metadata": {
    "id": "NAg0QrNTtsIu"
   },
   "outputs": [],
   "source": [
    "def theforloop(d, wanted_list):\n",
    "  list1=[]\n",
    "  for i in range(0, (len(d))):\n",
    "    for n in range(0, (len(d[i]))):\n",
    "      val=wanted_list[i]\n",
    "      list1.append(val)\n",
    "  return (list1)"
   ]
  },
  {
   "cell_type": "code",
   "execution_count": null,
   "metadata": {
    "id": "PrcHWsN3vfQA"
   },
   "outputs": [],
   "source": [
    "start=data[\"date_range_start\"]\n",
    "end=data[\"date_range_end\"]\n",
    "park_long=data[\"longitude\"]\n",
    "park_lat=data[\"latitude\"]\n",
    "starting_dates_list=theforloop(d,start)"
   ]
  },
  {
   "cell_type": "code",
   "execution_count": null,
   "metadata": {
    "id": "lXIi3gR9vgv_"
   },
   "outputs": [],
   "source": [
    "ending_dates_list=theforloop(d,end)\n",
    "park_long=theforloop(d,park_long)\n",
    "park_lat=theforloop(d,park_lat)"
   ]
  },
  {
   "cell_type": "code",
   "execution_count": null,
   "metadata": {
    "colab": {
     "base_uri": "https://localhost:8080/"
    },
    "executionInfo": {
     "elapsed": 804,
     "status": "ok",
     "timestamp": 1617761480253,
     "user": {
      "displayName": "Charles J Alba",
      "photoUrl": "",
      "userId": "04453837260567781183"
     },
     "user_tz": 240
    },
    "id": "0Q49n46GzymZ",
    "outputId": "8a5f8a14-a752-45ba-e94f-f5b45b593d74"
   },
   "outputs": [
    {
     "data": {
      "text/plain": [
       "True"
      ]
     },
     "execution_count": 18,
     "metadata": {
      "tags": []
     },
     "output_type": "execute_result"
    }
   ],
   "source": [
    "len(ending_dates_list)==len(park_long)\n",
    "\n",
    "#len(ending_dates_list)==len(census_block_values)"
   ]
  },
  {
   "cell_type": "code",
   "execution_count": null,
   "metadata": {
    "id": "czUD0zfQ0Jx6"
   },
   "outputs": [],
   "source": [
    "def to_include_relevant_data(d, wanted_list):\n",
    "  list2=[]\n",
    "  for i in range(0,(len(d))):\n",
    "    for n in range(0, (len(d[i]))):\n",
    "      val=wanted_list[i]\n",
    "      list2.append(val)\n",
    "  return (list2)\n",
    "\n",
    "\n",
    "  "
   ]
  },
  {
   "cell_type": "code",
   "execution_count": null,
   "metadata": {
    "id": "JrcHiz5s0lwy"
   },
   "outputs": [],
   "source": [
    "start_dates_list=to_include_relevant_data(d,data[\"date_range_start\"])\n",
    "ending_dates_list=to_include_relevant_data(d,data[\"date_range_end\"])\n",
    "park_lat=to_include_relevant_data(d,data[\"latitude\"])\n",
    "park_long=to_include_relevant_data(d,data['longitude'])\n",
    "\n"
   ]
  },
  {
   "cell_type": "code",
   "execution_count": null,
   "metadata": {
    "colab": {
     "base_uri": "https://localhost:8080/"
    },
    "executionInfo": {
     "elapsed": 678,
     "status": "ok",
     "timestamp": 1617762954445,
     "user": {
      "displayName": "Charles J Alba",
      "photoUrl": "",
      "userId": "04453837260567781183"
     },
     "user_tz": 240
    },
    "id": "Qq89XF7M2mSn",
    "outputId": "6e8d5cd5-93d9-4b1b-864f-aab36a5004ba"
   },
   "outputs": [
    {
     "data": {
      "text/plain": [
       "True"
      ]
     },
     "execution_count": 21,
     "metadata": {
      "tags": []
     },
     "output_type": "execute_result"
    }
   ],
   "source": [
    "len(ending_dates_list)==len(park_lat)"
   ]
  },
  {
   "cell_type": "code",
   "execution_count": null,
   "metadata": {
    "id": "vfWKDgmC-fGd"
   },
   "outputs": [],
   "source": [
    "our_data=pd.DataFrame()\n",
    "our_data[\"vistor_census_block\"]=census_block_list\n",
    "our_data[\"vistor_count\"]=census_block_values\n",
    "our_data[\"safegraph_place_id\"]=ordered_list_of_id\n",
    "our_data[\"date_range_start\"]=starting_dates_list\n",
    "our_data[\"date_range_end\"]=ending_dates_list\n",
    "our_data[\"lat\"]=park_lat\n",
    "our_data[\"long\"]=park_long"
   ]
  },
  {
   "cell_type": "code",
   "execution_count": null,
   "metadata": {
    "colab": {
     "base_uri": "https://localhost:8080/",
     "height": 589
    },
    "executionInfo": {
     "elapsed": 4421,
     "status": "ok",
     "timestamp": 1617763038382,
     "user": {
      "displayName": "Charles J Alba",
      "photoUrl": "",
      "userId": "04453837260567781183"
     },
     "user_tz": 240
    },
    "id": "JrIh5n17eNhu",
    "outputId": "00a216c7-affc-42ba-b712-95ff44c367ab"
   },
   "outputs": [
    {
     "data": {
      "text/html": [
       "<div>\n",
       "<style scoped>\n",
       "    .dataframe tbody tr th:only-of-type {\n",
       "        vertical-align: middle;\n",
       "    }\n",
       "\n",
       "    .dataframe tbody tr th {\n",
       "        vertical-align: top;\n",
       "    }\n",
       "\n",
       "    .dataframe thead th {\n",
       "        text-align: right;\n",
       "    }\n",
       "</style>\n",
       "<table border=\"1\" class=\"dataframe\">\n",
       "  <thead>\n",
       "    <tr style=\"text-align: right;\">\n",
       "      <th></th>\n",
       "      <th>vistor_census_block</th>\n",
       "      <th>vistor_count</th>\n",
       "      <th>safegraph_place_id</th>\n",
       "      <th>date_range_start</th>\n",
       "      <th>date_range_end</th>\n",
       "      <th>lat</th>\n",
       "      <th>long</th>\n",
       "    </tr>\n",
       "  </thead>\n",
       "  <tbody>\n",
       "    <tr>\n",
       "      <th>0</th>\n",
       "      <td>550250127002</td>\n",
       "      <td>4</td>\n",
       "      <td>sg:00cddb8fcb394c79bbcd47ed609a6e6f</td>\n",
       "      <td>2020-01-01T00:00:00-06:00</td>\n",
       "      <td>2020-02-01T00:00:00-06:00</td>\n",
       "      <td>43.123733</td>\n",
       "      <td>-89.747149</td>\n",
       "    </tr>\n",
       "    <tr>\n",
       "      <th>1</th>\n",
       "      <td>550250109044</td>\n",
       "      <td>4</td>\n",
       "      <td>sg:00cddb8fcb394c79bbcd47ed609a6e6f</td>\n",
       "      <td>2020-01-01T00:00:00-06:00</td>\n",
       "      <td>2020-02-01T00:00:00-06:00</td>\n",
       "      <td>43.123733</td>\n",
       "      <td>-89.747149</td>\n",
       "    </tr>\n",
       "    <tr>\n",
       "      <th>2</th>\n",
       "      <td>131210113052</td>\n",
       "      <td>13</td>\n",
       "      <td>sg:03ebfe3e177841c0b2ee06c46b78463b</td>\n",
       "      <td>2020-01-01T00:00:00-05:00</td>\n",
       "      <td>2020-02-01T00:00:00-05:00</td>\n",
       "      <td>33.657731</td>\n",
       "      <td>-84.486954</td>\n",
       "    </tr>\n",
       "    <tr>\n",
       "      <th>3</th>\n",
       "      <td>131210106013</td>\n",
       "      <td>8</td>\n",
       "      <td>sg:03ebfe3e177841c0b2ee06c46b78463b</td>\n",
       "      <td>2020-01-01T00:00:00-05:00</td>\n",
       "      <td>2020-02-01T00:00:00-05:00</td>\n",
       "      <td>33.657731</td>\n",
       "      <td>-84.486954</td>\n",
       "    </tr>\n",
       "    <tr>\n",
       "      <th>4</th>\n",
       "      <td>131210113031</td>\n",
       "      <td>7</td>\n",
       "      <td>sg:03ebfe3e177841c0b2ee06c46b78463b</td>\n",
       "      <td>2020-01-01T00:00:00-05:00</td>\n",
       "      <td>2020-02-01T00:00:00-05:00</td>\n",
       "      <td>33.657731</td>\n",
       "      <td>-84.486954</td>\n",
       "    </tr>\n",
       "    <tr>\n",
       "      <th>...</th>\n",
       "      <td>...</td>\n",
       "      <td>...</td>\n",
       "      <td>...</td>\n",
       "      <td>...</td>\n",
       "      <td>...</td>\n",
       "      <td>...</td>\n",
       "      <td>...</td>\n",
       "    </tr>\n",
       "    <tr>\n",
       "      <th>48920951</th>\n",
       "      <td>550791018001</td>\n",
       "      <td>4</td>\n",
       "      <td>sg:f9deee054bb746b9b1c704384747e06c</td>\n",
       "      <td>2021-02-01T00:00:00-06:00</td>\n",
       "      <td>2021-03-01T00:00:00-06:00</td>\n",
       "      <td>NaN</td>\n",
       "      <td>NaN</td>\n",
       "    </tr>\n",
       "    <tr>\n",
       "      <th>48920952</th>\n",
       "      <td>550590028003</td>\n",
       "      <td>4</td>\n",
       "      <td>sg:f9deee054bb746b9b1c704384747e06c</td>\n",
       "      <td>2021-02-01T00:00:00-06:00</td>\n",
       "      <td>2021-03-01T00:00:00-06:00</td>\n",
       "      <td>NaN</td>\n",
       "      <td>NaN</td>\n",
       "    </tr>\n",
       "    <tr>\n",
       "      <th>48920953</th>\n",
       "      <td>390610206013</td>\n",
       "      <td>5</td>\n",
       "      <td>sg:ff6a2bf579c946c6886fef14fba4233e</td>\n",
       "      <td>2021-02-01T00:00:00-05:00</td>\n",
       "      <td>2021-03-01T00:00:00-05:00</td>\n",
       "      <td>NaN</td>\n",
       "      <td>NaN</td>\n",
       "    </tr>\n",
       "    <tr>\n",
       "      <th>48920954</th>\n",
       "      <td>210150706053</td>\n",
       "      <td>4</td>\n",
       "      <td>sg:ff6a2bf579c946c6886fef14fba4233e</td>\n",
       "      <td>2021-02-01T00:00:00-05:00</td>\n",
       "      <td>2021-03-01T00:00:00-05:00</td>\n",
       "      <td>NaN</td>\n",
       "      <td>NaN</td>\n",
       "    </tr>\n",
       "    <tr>\n",
       "      <th>48920955</th>\n",
       "      <td>390170132001</td>\n",
       "      <td>4</td>\n",
       "      <td>sg:ff6a2bf579c946c6886fef14fba4233e</td>\n",
       "      <td>2021-02-01T00:00:00-05:00</td>\n",
       "      <td>2021-03-01T00:00:00-05:00</td>\n",
       "      <td>NaN</td>\n",
       "      <td>NaN</td>\n",
       "    </tr>\n",
       "  </tbody>\n",
       "</table>\n",
       "<p>48920956 rows × 7 columns</p>\n",
       "</div>"
      ],
      "text/plain": [
       "         vistor_census_block  vistor_count  ...        lat       long\n",
       "0               550250127002             4  ...  43.123733 -89.747149\n",
       "1               550250109044             4  ...  43.123733 -89.747149\n",
       "2               131210113052            13  ...  33.657731 -84.486954\n",
       "3               131210106013             8  ...  33.657731 -84.486954\n",
       "4               131210113031             7  ...  33.657731 -84.486954\n",
       "...                      ...           ...  ...        ...        ...\n",
       "48920951        550791018001             4  ...        NaN        NaN\n",
       "48920952        550590028003             4  ...        NaN        NaN\n",
       "48920953        390610206013             5  ...        NaN        NaN\n",
       "48920954        210150706053             4  ...        NaN        NaN\n",
       "48920955        390170132001             4  ...        NaN        NaN\n",
       "\n",
       "[48920956 rows x 7 columns]"
      ]
     },
     "execution_count": 23,
     "metadata": {
      "tags": []
     },
     "output_type": "execute_result"
    }
   ],
   "source": [
    "our_data"
   ]
  },
  {
   "cell_type": "code",
   "execution_count": null,
   "metadata": {
    "id": "2riZ-AmE-9Ra"
   },
   "outputs": [],
   "source": [
    "our_data.to_csv('aggragated.data.csv') "
   ]
  }
 ],
 "metadata": {
  "colab": {
   "collapsed_sections": [],
   "machine_shape": "hm",
   "name": "park_sample.ipynb",
   "provenance": []
  },
  "kernelspec": {
   "display_name": "Python 3",
   "language": "python",
   "name": "python3"
  },
  "language_info": {
   "codemirror_mode": {
    "name": "ipython",
    "version": 3
   },
   "file_extension": ".py",
   "mimetype": "text/x-python",
   "name": "python",
   "nbconvert_exporter": "python",
   "pygments_lexer": "ipython3",
   "version": "3.8.5"
  }
 },
 "nbformat": 4,
 "nbformat_minor": 1
}
